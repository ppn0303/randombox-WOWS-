{
  "nbformat": 4,
  "nbformat_minor": 0,
  "metadata": {
    "colab": {
      "provenance": [],
      "authorship_tag": "ABX9TyO+1hSmDI85F1PDDktGboWX",
      "include_colab_link": true
    },
    "kernelspec": {
      "name": "ir",
      "display_name": "R"
    },
    "language_info": {
      "name": "R"
    }
  },
  "cells": [
    {
      "cell_type": "markdown",
      "metadata": {
        "id": "view-in-github",
        "colab_type": "text"
      },
      "source": [
        "<a href=\"https://colab.research.google.com/github/ppn0303/randombox-WOWS-/blob/main/mathcodes.ipynb\" target=\"_parent\"><img src=\"https://colab.research.google.com/assets/colab-badge.svg\" alt=\"Open In Colab\"/></a>"
      ]
    },
    {
      "cell_type": "code",
      "execution_count": null,
      "metadata": {
        "id": "p90y_Z9z2ZGg"
      },
      "outputs": [],
      "source": []
    },
    {
      "cell_type": "markdown",
      "source": [
        "# 설명\n",
        "자잘한 설명들\n",
        "- 첫번째\n",
        "- 두번째\n",
        "\n",
        "$$ y^2 = \\forall x_i \\in A \\epsilon 1 $$"
      ],
      "metadata": {
        "id": "73J_Ts0A69_z"
      }
    },
    {
      "cell_type": "markdown",
      "source": [
        "$$ y = X_0 + \\alpha X_1 + \\varepsilon, \\varepsilon ~ \\sim N(0,1) $$\n",
        "$$ π  is  3.14.... $$"
      ],
      "metadata": {
        "id": "f_VI_T0V7yJ3"
      }
    },
    {
      "cell_type": "code",
      "source": [],
      "metadata": {
        "id": "Dk4hqK257w7K"
      },
      "execution_count": null,
      "outputs": []
    }
  ]
}